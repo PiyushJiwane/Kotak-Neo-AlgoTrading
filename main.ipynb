{
 "cells": [
  {
   "cell_type": "code",
   "execution_count": null,
   "metadata": {},
   "outputs": [],
   "source": [
    "# Using python-dotenv to Load Env variables\n",
    "import dotenv\n",
    "from dotenv import load_dotenv\n",
    "import os\n",
    "import pandas as pd\n",
    "from dateutil.relativedelta import relativedelta\n",
    "import requests\n",
    "from io import StringIO\n",
    "pd.set_option('display.max_columns', None)"
   ]
  },
  {
   "cell_type": "code",
   "execution_count": null,
   "metadata": {},
   "outputs": [],
   "source": [
    "from neo_api_client import NeoAPI"
   ]
  },
  {
   "cell_type": "code",
   "execution_count": null,
   "metadata": {},
   "outputs": [],
   "source": [
    "load_dotenv()"
   ]
  },
  {
   "cell_type": "code",
   "execution_count": null,
   "metadata": {},
   "outputs": [],
   "source": [
    "dotenv_path = \".env\""
   ]
  },
  {
   "cell_type": "code",
   "execution_count": null,
   "metadata": {},
   "outputs": [],
   "source": [
    "consumer_key=os.getenv(\"CONSUMER_KEY\")\n",
    "consumer_secret=os.getenv(\"CONSUMER_SECRET\")\n",
    "mobile_number=os.getenv(\"MOBILE_NUMBER\")\n",
    "password=os.getenv(\"PASSWORD\")"
   ]
  },
  {
   "cell_type": "code",
   "execution_count": null,
   "metadata": {},
   "outputs": [],
   "source": [
    "def on_message(message):\n",
    "    print(message)\n",
    "    \n",
    "def on_error(error_message):\n",
    "    print(error_message)"
   ]
  },
  {
   "cell_type": "code",
   "execution_count": null,
   "metadata": {},
   "outputs": [],
   "source": [
    "client = NeoAPI(consumer_key=consumer_key,\n",
    "                consumer_secret=consumer_secret, \n",
    "                environment='PROD', on_message=on_message, on_error=on_error, on_close=None, on_open=None)"
   ]
  },
  {
   "cell_type": "code",
   "execution_count": null,
   "metadata": {},
   "outputs": [],
   "source": [
    "d=client.login(mobilenumber=mobile_number, password=password)"
   ]
  },
  {
   "cell_type": "code",
   "execution_count": null,
   "metadata": {},
   "outputs": [],
   "source": [
    "dotenv.set_key(dotenv_path, \"TOKEN\", client.login(mobilenumber=mobile_number, password=password).get(\"data\").get(\"token\"))"
   ]
  },
  {
   "cell_type": "code",
   "execution_count": null,
   "metadata": {},
   "outputs": [],
   "source": [
    "# otp=input(\"Enter an OTP : \")\n",
    "otp=\"883288\""
   ]
  },
  {
   "cell_type": "code",
   "execution_count": null,
   "metadata": {},
   "outputs": [],
   "source": [
    "client.session_2fa(OTP=otp)"
   ]
  },
  {
   "cell_type": "code",
   "execution_count": null,
   "metadata": {},
   "outputs": [],
   "source": [
    "client.scrip_master()"
   ]
  },
  {
   "cell_type": "code",
   "execution_count": null,
   "metadata": {},
   "outputs": [],
   "source": [
    "# Get Scrip Master CSV file\n",
    "# client.scrip_master()\n",
    "cashUrl = client.scrip_master(exchange_segment = \"nse_cm\")\n",
    "nfoUrl = client.scrip_master(exchange_segment = \"nse_fo\")\n",
    "# cashUrl , nfoUrl"
   ]
  },
  {
   "cell_type": "code",
   "execution_count": null,
   "metadata": {},
   "outputs": [],
   "source": [
    "# Make a GET request to the URL with SSL verification disabled\n",
    "response_nfoUrl = requests.get(nfoUrl)\n",
    "response_cashUrl = requests.get(cashUrl)\n",
    "\n",
    "# If the request was successful, read the CSV data into a DataFrame\n",
    "if response_cashUrl.status_code == 200:\n",
    "    # Use StringIO to convert the response content into a file-like object\n",
    "    cashDF = pd.read_csv(StringIO(response_cashUrl.content.decode('utf-8')))\n",
    "    print(nfodf.head())\n",
    "else:\n",
    "    print(\"Failed to fetch data from the URL.\")\n",
    "\n",
    "# If the request was successful, read the CSV data into a DataFrame\n",
    "if response_nfoUrl.status_code == 200:\n",
    "    # Use StringIO to convert the response content into a file-like object\n",
    "    nfoDF = pd.read_csv(StringIO(response_nfoUrl.content.decode('utf-8')))\n",
    "    print(nfoDF.head())\n",
    "else:\n",
    "    print(\"Failed to fetch data from the URL.\")"
   ]
  },
  {
   "cell_type": "code",
   "execution_count": null,
   "metadata": {},
   "outputs": [],
   "source": [
    "result_concat_df=pd.concat([cashDF,nfoDF],ignore_index=True)"
   ]
  },
  {
   "cell_type": "code",
   "execution_count": null,
   "metadata": {},
   "outputs": [],
   "source": [
    "result_concat_df[result_concat_df['pSymbolName']==result_concat_df['pTrdSymbol']]"
   ]
  },
  {
   "cell_type": "code",
   "execution_count": null,
   "metadata": {},
   "outputs": [],
   "source": [
    "inst_tokens = [{\"instrument_token\": \"26000\", \"exchange_segment\": \"nse_cm\"}]"
   ]
  },
  {
   "cell_type": "code",
   "execution_count": null,
   "metadata": {},
   "outputs": [],
   "source": [
    "client.quotes(instrument_tokens=inst_tokens,quote_type=\"\",isIndex=False)"
   ]
  },
  {
   "cell_type": "code",
   "execution_count": null,
   "metadata": {},
   "outputs": [],
   "source": [
    "inst_tokens = [{\"instrument_token\": \"68086\", \"exchange_segment\": \"nse_fo\"}]\n",
    "client.quotes(instrument_tokens=inst_tokens,quote_type=\"\",isIndex=False)"
   ]
  },
  {
   "cell_type": "code",
   "execution_count": null,
   "metadata": {},
   "outputs": [],
   "source": []
  },
  {
   "cell_type": "code",
   "execution_count": null,
   "metadata": {},
   "outputs": [],
   "source": [
    "filtered_df = nfodf[nfodf['pTrdSymbol'].str.startswith('NIFTY')]\n",
    "\n",
    "print(filtered_df)"
   ]
  },
  {
   "cell_type": "code",
   "execution_count": null,
   "metadata": {},
   "outputs": [],
   "source": [
    "filtered_df.to_csv(\"data1.csv\")"
   ]
  },
  {
   "cell_type": "code",
   "execution_count": null,
   "metadata": {},
   "outputs": [],
   "source": [
    "nfodf['dStrikePrice;']"
   ]
  },
  {
   "cell_type": "code",
   "execution_count": null,
   "metadata": {},
   "outputs": [],
   "source": [
    "nfodf.columns = [c.strip() for c in nfodf.columns.values.tolist()]"
   ]
  },
  {
   "cell_type": "code",
   "execution_count": null,
   "metadata": {},
   "outputs": [],
   "source": [
    "nfodf.columns"
   ]
  },
  {
   "cell_type": "code",
   "execution_count": null,
   "metadata": {},
   "outputs": [],
   "source": [
    "nfodf['lExpiryDate'] = pd.to_datetime(nfodf['lExpiryDate'],unit='s').apply(lambda x: x.date() + relativedelta(years=10) ) "
   ]
  },
  {
   "cell_type": "code",
   "execution_count": null,
   "metadata": {},
   "outputs": [],
   "source": [
    "nfodf['dStrikePrice;']"
   ]
  },
  {
   "cell_type": "code",
   "execution_count": null,
   "metadata": {},
   "outputs": [],
   "source": [
    "nfodf[(nfodf.pInstType == 'OPTIDX') & (nfodf.pTrdSymbol.str.startswith(\"NIFTY\")) & (nfodf[\"dStrikePrice;\"] == 22000.0) ] "
   ]
  },
  {
   "cell_type": "code",
   "execution_count": null,
   "metadata": {},
   "outputs": [],
   "source": [
    "nfodf['dStrikePrice;']"
   ]
  }
 ],
 "metadata": {
  "kernelspec": {
   "display_name": "venv",
   "language": "python",
   "name": "python3"
  },
  "language_info": {
   "codemirror_mode": {
    "name": "ipython",
    "version": 3
   },
   "file_extension": ".py",
   "mimetype": "text/x-python",
   "name": "python",
   "nbconvert_exporter": "python",
   "pygments_lexer": "ipython3",
   "version": "3.9.5"
  }
 },
 "nbformat": 4,
 "nbformat_minor": 2
}
