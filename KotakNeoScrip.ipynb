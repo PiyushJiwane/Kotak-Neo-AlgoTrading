{
 "cells": [
  {
   "cell_type": "code",
   "execution_count": null,
   "metadata": {},
   "outputs": [],
   "source": [
    "from neo_api_client import NeoAPI"
   ]
  },
  {
   "cell_type": "code",
   "execution_count": null,
   "metadata": {},
   "outputs": [],
   "source": [
    "import dotenv\n",
    "from dotenv import load_dotenv\n",
    "import os\n",
    "from datetime import datetime,timedelta\n",
    "import logging\n",
    "from dateutil.relativedelta import relativedelta\n",
    "import pandas as pd\n",
    "pd.set_option('display.max_columns', None)"
   ]
  },
  {
   "cell_type": "code",
   "execution_count": null,
   "metadata": {},
   "outputs": [],
   "source": [
    "# Step 1: Create and configure logger\n",
    "logging.basicConfig(\n",
    "    filename='app.log',          # The name of the log file\n",
    "    filemode='a',                # Mode to open the file, 'a' for append, 'w' for overwrite\n",
    "    format='%(asctime)s - %(levelname)s - %(message)s',  # Format of the log messages\n",
    "    datefmt='%Y-%m-%d %H:%M:%S', # Date format in the log messages\n",
    "    level=logging.DEBUG          # Set the minimum log level to DEBUG\n",
    ")"
   ]
  },
  {
   "cell_type": "code",
   "execution_count": null,
   "metadata": {},
   "outputs": [],
   "source": [
    "# Step 2: Create logger object\n",
    "logger = logging.getLogger()"
   ]
  },
  {
   "cell_type": "code",
   "execution_count": null,
   "metadata": {},
   "outputs": [],
   "source": [
    "load_dotenv()\n",
    "dotenv_path = \".env\""
   ]
  },
  {
   "cell_type": "code",
   "execution_count": null,
   "metadata": {},
   "outputs": [],
   "source": [
    "consumer_key=os.getenv(\"CONSUMER_KEY\")\n",
    "consumer_secret=os.getenv(\"CONSUMER_SECRET\")\n",
    "mobile_number=os.getenv(\"MOBILE_NUMBER\")\n",
    "password=os.getenv(\"PASSWORD\")"
   ]
  },
  {
   "cell_type": "code",
   "execution_count": null,
   "metadata": {},
   "outputs": [],
   "source": [
    "def on_message(message):\n",
    "    if(message[0].get('tbq')!=None and message[0].get('tsq')!=None and message[0].get('v')!=None):\n",
    "        # logger.debug(message[0].get(\"ltp\"),message[0].get(\"nc\"),(int(message[0].get(\"v\"))-int(message[0].get(\"tbq\"))+int(message[0].get(\"tsq\"))))\n",
    "        logger.debug(f'{message[0].get(\"ltp\")} - {message[0].get(\"nc\")} - {(int(message[0].get(\"v\"))-int(message[0].get(\"tbq\"))+int(message[0].get(\"tsq\")))}')\n",
    "        # print(f\"msg recerived : {int(message[0].get('tbq'))-int(message[0].get('tsq'))}\")\n",
    "    # logger.debug(message)\n",
    "    \n",
    "def on_error(error_message):\n",
    "    print(error_message)\n",
    "\n",
    "client = NeoAPI(consumer_key=consumer_key,\n",
    "                consumer_secret=consumer_secret, \n",
    "                environment='PROD', on_message=on_message, on_error=on_error, on_close=None, on_open=None)\n",
    "\n",
    "token=client.login(mobilenumber=mobile_number, password=password)\n",
    "\n",
    "dotenv.set_key(dotenv_path, \"TOKEN\", token.get(\"data\").get(\"token\"))"
   ]
  },
  {
   "cell_type": "code",
   "execution_count": null,
   "metadata": {},
   "outputs": [],
   "source": [
    "# otp=input(\"Enter an OTP : \")\n",
    "otp=\"883288\""
   ]
  },
  {
   "cell_type": "code",
   "execution_count": null,
   "metadata": {},
   "outputs": [],
   "source": [
    "client.session_2fa(OTP=otp)"
   ]
  },
  {
   "cell_type": "code",
   "execution_count": null,
   "metadata": {},
   "outputs": [],
   "source": [
    "# nse_cm_script=client.scrip_master(exchange_segment=\"nse_cm\")\n",
    "# print(f\"script data : {nse_cm_script}\")"
   ]
  },
  {
   "cell_type": "code",
   "execution_count": null,
   "metadata": {},
   "outputs": [],
   "source": [
    "try:\n",
    "    print(client.positions())\n",
    "except Exception as e:\n",
    "    print(\"Exception when calling PositionsApi->positions: %s\\n\" % e)"
   ]
  },
  {
   "cell_type": "code",
   "execution_count": null,
   "metadata": {},
   "outputs": [],
   "source": [
    "# client.place_order(exchange_segment=\"nse_cm\", product=\"MIS\", price=\"24\", order_type=\"SL\", quantity=\"1\", validity=\"DAY\", trading_symbol=\"YESBANK\",\n",
    "#                    transaction_type=\"Buy\", amo=\"NO\", disclosed_quantity=\"0\", market_protection=\"2\", pf=\"N\", trigger_price=\"24\",\n",
    "#                    tag=None)"
   ]
  },
  {
   "cell_type": "code",
   "execution_count": null,
   "metadata": {},
   "outputs": [],
   "source": [
    "# help(client.place_order)"
   ]
  },
  {
   "cell_type": "code",
   "execution_count": null,
   "metadata": {},
   "outputs": [],
   "source": [
    "# client.place_order(exchange_segment='nse_cm', product='CNC', price=\"24\", order_type='SL', quantity=\"1\", validity='DAY', trading_symbol='YESBANK-EQ',\n",
    "#                     transaction_type='B', amo=\"NO\", disclosed_quantity=\"0\", market_protection=\"0\", pf=\"N\",\n",
    "#                     trigger_price=\"24\", tag=None)"
   ]
  },
  {
   "cell_type": "code",
   "execution_count": null,
   "metadata": {},
   "outputs": [],
   "source": [
    "# client.order_report()"
   ]
  },
  {
   "cell_type": "code",
   "execution_count": null,
   "metadata": {},
   "outputs": [],
   "source": [
    "# client.trade_report()"
   ]
  },
  {
   "cell_type": "code",
   "execution_count": null,
   "metadata": {},
   "outputs": [],
   "source": [
    "df=pd.read_csv(\"./stock_info.csv\")"
   ]
  },
  {
   "cell_type": "code",
   "execution_count": null,
   "metadata": {},
   "outputs": [],
   "source": [
    "def orderPlace(data):\n",
    "    sPrice=str(data.price)\n",
    "    sQuantity=str(data.quantity)\n",
    "    sSymbol=data.tSymbol\n",
    "    placed=client.place_order(exchange_segment='nse_cm', product='MIS', price=sPrice,\n",
    "                        order_type='SL', quantity=sQuantity, validity='DAY', trading_symbol=sSymbol,transaction_type='S', amo=\"NO\", disclosed_quantity=\"0\", market_protection=\"0\", pf=\"N\",trigger_price=sPrice, tag=None)\n",
    "    print(placed)"
   ]
  },
  {
   "cell_type": "code",
   "execution_count": null,
   "metadata": {},
   "outputs": [],
   "source": [
    "# df.apply(orderPlace,axis=1)"
   ]
  },
  {
   "cell_type": "code",
   "execution_count": null,
   "metadata": {},
   "outputs": [],
   "source": [
    "# client.positions()"
   ]
  },
  {
   "cell_type": "code",
   "execution_count": null,
   "metadata": {},
   "outputs": [],
   "source": [
    "# market order\n",
    "\n",
    "#client.place_order(exchange_segment='nse_cm', product='MIS', price=\"0\",order_type='Market', quantity=sQuantity, validity='DAY', trading_symbol=sSymbol,transaction_type='S', amo=\"NO\", disclosed_quantity=\"0\", market_protection=\"0\", pf=\"N\",trigger_price=\"0\", tag=None)"
   ]
  },
  {
   "cell_type": "code",
   "execution_count": null,
   "metadata": {},
   "outputs": [],
   "source": [
    "inst_tokens = [{\"instrument_token\": \"3045\", \"exchange_segment\": \"nse_cm\"}]"
   ]
  },
  {
   "cell_type": "code",
   "execution_count": null,
   "metadata": {},
   "outputs": [],
   "source": [
    "client.subscribe(instrument_tokens = inst_tokens, isIndex=False, isDepth=False)[0]"
   ]
  },
  {
   "cell_type": "code",
   "execution_count": null,
   "metadata": {},
   "outputs": [],
   "source": []
  }
 ],
 "metadata": {
  "kernelspec": {
   "display_name": "venv",
   "language": "python",
   "name": "python3"
  },
  "language_info": {
   "codemirror_mode": {
    "name": "ipython",
    "version": 3
   },
   "file_extension": ".py",
   "mimetype": "text/x-python",
   "name": "python",
   "nbconvert_exporter": "python",
   "pygments_lexer": "ipython3",
   "version": "3.9.5"
  }
 },
 "nbformat": 4,
 "nbformat_minor": 2
}
